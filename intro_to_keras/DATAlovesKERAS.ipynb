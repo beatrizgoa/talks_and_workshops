{
 "cells": [
  {
   "cell_type": "code",
   "execution_count": 19,
   "metadata": {
    "slideshow": {
     "slide_type": "skip"
    }
   },
   "outputs": [
    {
     "data": {
      "text/plain": [
       "{'scroll': True}"
      ]
     },
     "execution_count": 19,
     "metadata": {},
     "output_type": "execute_result"
    }
   ],
   "source": [
    "# This code allows the scroll in presentation mode. Hidden content in slides view\n",
    "from notebook.services.config import ConfigManager\n",
    "cm = ConfigManager()\n",
    "cm.update('livereveal', {\n",
    "              'scroll': True,\n",
    "})"
   ]
  },
  {
   "cell_type": "markdown",
   "metadata": {
    "slideshow": {
     "slide_type": "slide"
    }
   },
   "source": [
    "<p style=\"text-align: center; font-size:350%\" > BIENVENIDOS </p>"
   ]
  },
  {
   "cell_type": "markdown",
   "metadata": {
    "slideshow": {
     "slide_type": "slide"
    }
   },
   "source": [
    "<div> <img src=\"images/magia_keras(1).png\" height=\"75%\" align=\"center\"> </div>\n",
    "\n"
   ]
  },
  {
   "cell_type": "markdown",
   "metadata": {
    "slideshow": {
     "slide_type": "slide"
    }
   },
   "source": [
    "## ¿Qué vamos a hacer?\n",
    "<img src=\"./images/doing.png\" width=\"73%\" align=\"center\">  "
   ]
  },
  {
   "cell_type": "markdown",
   "metadata": {
    "slideshow": {
     "slide_type": "slide"
    }
   },
   "source": [
    "## ¿Qué es keras?\n",
    "<img src=\"./images/kerasbackend.png\" width=\"60%\" align=\"center\">  "
   ]
  },
  {
   "cell_type": "markdown",
   "metadata": {
    "slideshow": {
     "slide_type": "slide"
    }
   },
   "source": [
    "## El Workflow de trabajo\n",
    "\n",
    "<img src=\"./images/ml-workflow.png\" width=\"60%\" align=\"center\">  \n"
   ]
  },
  {
   "cell_type": "markdown",
   "metadata": {
    "slideshow": {
     "slide_type": "slide"
    }
   },
   "source": [
    "<img src=\"./images/1-WKFLOW.png\" width=\"60%\" align=\"center\">  \n"
   ]
  },
  {
   "cell_type": "markdown",
   "metadata": {
    "slideshow": {
     "slide_type": "slide"
    }
   },
   "source": [
    "## La importancia de los datos\n",
    "\n",
    "* Obtener/Procesar datos ocupan gran parte del tiempo!\n",
    "* Los datos son la base del aprendizaje\n",
    "* Unos datos de calidad alta, sin imágenes emborronadas -> facilita entrenamiento\n",
    "* No podemos enseñar algo de lo que no tenemos datos\n"
   ]
  },
  {
   "cell_type": "markdown",
   "metadata": {
    "slideshow": {
     "slide_type": "slide"
    }
   },
   "source": [
    "## Para ello necesitamos... \n",
    "<div> <img src=\"images/folder_distribution.png\" width=\"65%\" align=\"center\"> </div>"
   ]
  },
  {
   "cell_type": "markdown",
   "metadata": {
    "slideshow": {
     "slide_type": "slide"
    }
   },
   "source": [
    "<div style=\"display: flex; width:'10%' flex-wrap: wrap;\"> \n",
    "<img src=\"images/513.jpg\" style=\"flex-basis:10%\">\n",
    "<img src=\"images/533.jpg\" style=\"flex-basis:10%\">\n",
    "\n",
    "</div> \n"
   ]
  },
  {
   "cell_type": "markdown",
   "metadata": {
    "slideshow": {
     "slide_type": "slide"
    }
   },
   "source": [
    "<div style=\"display: flex; width:'10'%' flex-wrap: wrap;\"> \n",
    "<img src=\"images/1072.jpg\" style=\"flex-basis:10%\">\n",
    "<img src=\"images/1641.jpg\" style=\"flex-basis:10%\">\n",
    "\n",
    "</div>"
   ]
  },
  {
   "cell_type": "code",
   "execution_count": 1,
   "metadata": {
    "slideshow": {
     "slide_type": "slide"
    }
   },
   "outputs": [],
   "source": [
    "train_path = 'dataset/train'\n",
    "test_path = 'dataset/test'\n",
    "\n",
    "batch_size = 32\n",
    "image_size = (180,180)"
   ]
  },
  {
   "cell_type": "code",
   "execution_count": 2,
   "metadata": {
    "slideshow": {
     "slide_type": "slide"
    }
   },
   "outputs": [
    {
     "name": "stderr",
     "output_type": "stream",
     "text": [
      "Using TensorFlow backend.\n"
     ]
    },
    {
     "name": "stdout",
     "output_type": "stream",
     "text": [
      "Found 20380 images belonging to 2 classes.\n",
      "Found 3595 images belonging to 2 classes.\n"
     ]
    }
   ],
   "source": [
    "from keras.preprocessing.image import ImageDataGenerator\n",
    "from keras.utils import Sequence\n",
    "\n",
    "\n",
    "# para entrenar\n",
    "aug_train = ImageDataGenerator(validation_split=0.15)\n",
    "\n",
    "train_generator = aug_train.flow_from_directory(directory=train_path,\n",
    "                                                target_size=image_size,\n",
    "                                                batch_size=batch_size,\n",
    "                                                shuffle=True,\n",
    "                                                class_mode='binary',\n",
    "                                                subset=\"training\")\n",
    "\n",
    "valid_generator = aug_train.flow_from_directory(directory=train_path,\n",
    "                                                target_size=image_size,\n",
    "                                                batch_size=batch_size,\n",
    "                                                shuffle=True,\n",
    "                                                class_mode='binary',\n",
    "                                                subset=\"validation\")"
   ]
  },
  {
   "cell_type": "code",
   "execution_count": 3,
   "metadata": {
    "slideshow": {
     "slide_type": "slide"
    }
   },
   "outputs": [],
   "source": [
    "train_batches = round(train_generator.samples/batch_size)\n",
    "valid_batches = round(valid_generator.samples/batch_size)"
   ]
  },
  {
   "cell_type": "code",
   "execution_count": 16,
   "metadata": {
    "slideshow": {
     "slide_type": "slide"
    }
   },
   "outputs": [
    {
     "name": "stdout",
     "output_type": "stream",
     "text": [
      "Found 1000 images belonging to 2 classes.\n"
     ]
    }
   ],
   "source": [
    "# para testear\n",
    "aug_test = ImageDataGenerator()\n",
    "test_generator = aug_test.flow_from_directory(directory=test_path,\n",
    "                                              target_size=image_size,\n",
    "                                              batch_size=100,\n",
    "                                              class_mode='binary')\n",
    "\n",
    "test_batches = round(test_generator.samples/batch_size)"
   ]
  },
  {
   "cell_type": "markdown",
   "metadata": {
    "slideshow": {
     "slide_type": "slide"
    }
   },
   "source": [
    "<img src=\"./images/2-WKFLOW.png\" width=\"60%\" align=\"center\">  "
   ]
  },
  {
   "cell_type": "markdown",
   "metadata": {
    "slideshow": {
     "slide_type": "slide"
    }
   },
   "source": [
    "## Keras nos ayuda a aumentar el dataset ..."
   ]
  },
  {
   "cell_type": "code",
   "execution_count": 21,
   "metadata": {
    "slideshow": {
     "slide_type": "fragment"
    }
   },
   "outputs": [
    {
     "name": "stdout",
     "output_type": "stream",
     "text": [
      "Found 21579 images belonging to 2 classes.\n"
     ]
    }
   ],
   "source": [
    "# para entrenar\n",
    "aug_train = ImageDataGenerator(rotation_range=10,\n",
    "                               horizontal_flip=True,\n",
    "                               vertical_flip=True,\n",
    "                               zoom_range=0.3,\n",
    "                               validation_split=0.10)\n",
    "\n",
    "aug_train_generator = aug_train.flow_from_directory(directory=train_path,\n",
    "                                                target_size=image_size,\n",
    "                                                batch_size=batch_size,\n",
    "                                                shuffle=True,\n",
    "                                                class_mode='categorical',\n",
    "                                                subset=\"training\",\n",
    "                                                save_to_dir='dataset/augmented',\n",
    "                                                save_prefix='aug')"
   ]
  },
  {
   "cell_type": "code",
   "execution_count": 22,
   "metadata": {
    "slideshow": {
     "slide_type": "slide"
    }
   },
   "outputs": [
    {
     "data": {
      "text/plain": [
       "array([[0., 1.],\n",
       "       [0., 1.],\n",
       "       [1., 0.],\n",
       "       [1., 0.],\n",
       "       [1., 0.],\n",
       "       [0., 1.],\n",
       "       [0., 1.],\n",
       "       [0., 1.],\n",
       "       [1., 0.],\n",
       "       [0., 1.],\n",
       "       [1., 0.],\n",
       "       [0., 1.],\n",
       "       [1., 0.],\n",
       "       [1., 0.],\n",
       "       [1., 0.],\n",
       "       [0., 1.],\n",
       "       [1., 0.],\n",
       "       [1., 0.],\n",
       "       [0., 1.],\n",
       "       [0., 1.],\n",
       "       [1., 0.],\n",
       "       [0., 1.],\n",
       "       [0., 1.],\n",
       "       [0., 1.],\n",
       "       [1., 0.],\n",
       "       [1., 0.],\n",
       "       [1., 0.],\n",
       "       [1., 0.],\n",
       "       [0., 1.],\n",
       "       [1., 0.],\n",
       "       [0., 1.],\n",
       "       [0., 1.]], dtype=float32)"
      ]
     },
     "execution_count": 22,
     "metadata": {},
     "output_type": "execute_result"
    }
   ],
   "source": [
    "x, y = aug_train_generator.next()\n",
    "y"
   ]
  },
  {
   "cell_type": "markdown",
   "metadata": {
    "slideshow": {
     "slide_type": "slide"
    }
   },
   "source": [
    "<div style=\"display: flex; width:'100%' flex-wrap: wrap;\"> \n",
    "<img src=\"images/aug_173.png\" style=\"flex-basis:30%\">\n",
    "<img src=\"images/aug_1396.png\" style=\"flex-basis:30%\">\n",
    "<img src=\"images/aug_212.png\" style=\"flex-basis:30%\">\n",
    "</div> "
   ]
  },
  {
   "cell_type": "markdown",
   "metadata": {
    "slideshow": {
     "slide_type": "slide"
    }
   },
   "source": [
    "<img src=\"./images/3-Workflow.png\" width=\"60%\" align=\"center\">  "
   ]
  },
  {
   "cell_type": "markdown",
   "metadata": {
    "slideshow": {
     "slide_type": "slide"
    }
   },
   "source": [
    "## La importancia de definir el problema\n",
    "* El tipo de datos\n",
    "* La distribución de los datos.\n",
    "* Es importante usar cada métrica para cada problema\n",
    "* Qué tipo de problema y cómo afrontarlo (clasificación o regresión, por ejemplo)\n",
    "* Topología de la red\n",
    "* ..."
   ]
  },
  {
   "cell_type": "markdown",
   "metadata": {
    "slideshow": {
     "slide_type": "slide"
    }
   },
   "source": [
    "## Nuestro modelo\n",
    "\n",
    "Nuestra red es una red de convolucion (Convolutional Neural Network - CNN)\n",
    "\n",
    "* Lo podemos definir nosotros mismos.\n",
    "* Podemos usar un modelo ya definido.\n",
    "    \n"
   ]
  },
  {
   "cell_type": "markdown",
   "metadata": {
    "slideshow": {
     "slide_type": "slide"
    }
   },
   "source": [
    "<div> <img src=\"images/imagenet_vgg16.png\" width=\"65%\" align=\"center\"> </div>"
   ]
  },
  {
   "cell_type": "markdown",
   "metadata": {
    "slideshow": {
     "slide_type": "slide"
    }
   },
   "source": [
    "https://tensorspace.org/html/playground/alexnet.html"
   ]
  },
  {
   "cell_type": "code",
   "execution_count": 7,
   "metadata": {
    "slideshow": {
     "slide_type": "slide"
    }
   },
   "outputs": [],
   "source": [
    "from keras.layers import Input, Conv2D, MaxPooling2D, Flatten, Dense, Dropout, Activation\n",
    "from keras.models import Sequential\n",
    "\n",
    "conv_model = Sequential()\n",
    "\n",
    "# The first set of CONV => RELU =\n",
    "conv_model.add(Conv2D(20, (3, 3), padding=\"same\",\n",
    "                      input_shape=(image_size[0], image_size[1], 3)))\n",
    "conv_model.add(Activation(\"relu\"))\n",
    "conv_model.add(MaxPooling2D(pool_size=(2, 2), strides=(2, 2)))\n",
    "\n",
    "\n",
    "# The second set of CONV => RELU => POOL layers\n",
    "conv_model.add(Conv2D(20, (3, 3), padding=\"same\"))\n",
    "conv_model.add(Activation(\"relu\"))\n",
    "conv_model.add(MaxPooling2D(pool_size=(2, 2), strides=(2, 2)))\n",
    "\n",
    "# The second set of CONV => RELU => POOL layers\n",
    "conv_model.add(Conv2D(20, (3, 3), padding=\"same\"))\n",
    "conv_model.add(Activation(\"relu\"))\n",
    "conv_model.add(MaxPooling2D(pool_size=(2, 2), strides=(2, 2)))\n",
    "\n",
    "# The second set of CONV => RELU => POOL layers\n",
    "conv_model.add(Conv2D(20, (3, 3), padding=\"same\"))\n",
    "conv_model.add(Activation(\"relu\"))\n",
    "conv_model.add(MaxPooling2D(pool_size=(2, 2), strides=(2, 2)))\n",
    "\n",
    "# The second set of CONV => RELU => POOL layers\n",
    "conv_model.add(Conv2D(20, (3, 3), padding=\"same\"))\n",
    "conv_model.add(Activation(\"relu\"))\n",
    "conv_model.add(MaxPooling2D(pool_size=(4, 4), strides=(2, 2)))\n",
    "\n",
    "# The set of FC => RELU layers\n",
    "conv_model.add(Flatten())\n",
    "conv_model.add(Dense(20))\n",
    "conv_model.add(Activation(\"relu\"))\n",
    "\n",
    "# The softmax classifier\n",
    "conv_model.add(Dense(1))\n",
    "conv_model.add(Activation(\"softmax\"))"
   ]
  },
  {
   "cell_type": "code",
   "execution_count": 8,
   "metadata": {
    "slideshow": {
     "slide_type": "slide"
    }
   },
   "outputs": [
    {
     "name": "stdout",
     "output_type": "stream",
     "text": [
      "<keras.layers.convolutional.Conv2D object at 0x7f2e50fd2630> True\n",
      "<keras.layers.core.Activation object at 0x7f2e50d73c50> True\n",
      "<keras.layers.pooling.MaxPooling2D object at 0x7f2e50fd2ac8> True\n",
      "<keras.layers.convolutional.Conv2D object at 0x7f2e50fd2b70> True\n",
      "<keras.layers.core.Activation object at 0x7f2e50c58208> True\n",
      "<keras.layers.pooling.MaxPooling2D object at 0x7f2e50f5db00> True\n",
      "<keras.layers.convolutional.Conv2D object at 0x7f2e50f5d710> True\n",
      "<keras.layers.core.Activation object at 0x7f2e50f5da90> True\n",
      "<keras.layers.pooling.MaxPooling2D object at 0x7f2e50e517f0> True\n",
      "<keras.layers.convolutional.Conv2D object at 0x7f2e50e51fd0> True\n",
      "<keras.layers.core.Activation object at 0x7f2e6a835320> True\n",
      "<keras.layers.pooling.MaxPooling2D object at 0x7f2e50a51ac8> True\n",
      "<keras.layers.convolutional.Conv2D object at 0x7f2e50a51278> True\n",
      "<keras.layers.core.Activation object at 0x7f2e50a51a58> True\n",
      "<keras.layers.pooling.MaxPooling2D object at 0x7f2e50ec5fd0> True\n",
      "<keras.layers.core.Flatten object at 0x7f2e50ec5748> True\n",
      "<keras.layers.core.Dense object at 0x7f2e50ec5f60> True\n",
      "<keras.layers.core.Activation object at 0x7f2e50a1d0b8> True\n",
      "<keras.layers.core.Dense object at 0x7f2e50cb4eb8> True\n",
      "<keras.layers.core.Activation object at 0x7f2e50cb4710> True\n"
     ]
    }
   ],
   "source": [
    "for layer in conv_model.layers:\n",
    "    print(layer, layer.trainable)"
   ]
  },
  {
   "cell_type": "code",
   "execution_count": 9,
   "metadata": {
    "slideshow": {
     "slide_type": "slide"
    }
   },
   "outputs": [
    {
     "name": "stdout",
     "output_type": "stream",
     "text": [
      "_________________________________________________________________\n",
      "Layer (type)                 Output Shape              Param #   \n",
      "=================================================================\n",
      "conv2d_1 (Conv2D)            (None, 180, 180, 20)      560       \n",
      "_________________________________________________________________\n",
      "activation_1 (Activation)    (None, 180, 180, 20)      0         \n",
      "_________________________________________________________________\n",
      "max_pooling2d_1 (MaxPooling2 (None, 90, 90, 20)        0         \n",
      "_________________________________________________________________\n",
      "conv2d_2 (Conv2D)            (None, 90, 90, 20)        3620      \n",
      "_________________________________________________________________\n",
      "activation_2 (Activation)    (None, 90, 90, 20)        0         \n",
      "_________________________________________________________________\n",
      "max_pooling2d_2 (MaxPooling2 (None, 45, 45, 20)        0         \n",
      "_________________________________________________________________\n",
      "conv2d_3 (Conv2D)            (None, 45, 45, 20)        3620      \n",
      "_________________________________________________________________\n",
      "activation_3 (Activation)    (None, 45, 45, 20)        0         \n",
      "_________________________________________________________________\n",
      "max_pooling2d_3 (MaxPooling2 (None, 22, 22, 20)        0         \n",
      "_________________________________________________________________\n",
      "conv2d_4 (Conv2D)            (None, 22, 22, 20)        3620      \n",
      "_________________________________________________________________\n",
      "activation_4 (Activation)    (None, 22, 22, 20)        0         \n",
      "_________________________________________________________________\n",
      "max_pooling2d_4 (MaxPooling2 (None, 11, 11, 20)        0         \n",
      "_________________________________________________________________\n",
      "conv2d_5 (Conv2D)            (None, 11, 11, 20)        3620      \n",
      "_________________________________________________________________\n",
      "activation_5 (Activation)    (None, 11, 11, 20)        0         \n",
      "_________________________________________________________________\n",
      "max_pooling2d_5 (MaxPooling2 (None, 4, 4, 20)          0         \n",
      "_________________________________________________________________\n",
      "flatten_1 (Flatten)          (None, 320)               0         \n",
      "_________________________________________________________________\n",
      "dense_1 (Dense)              (None, 20)                6420      \n",
      "_________________________________________________________________\n",
      "activation_6 (Activation)    (None, 20)                0         \n",
      "_________________________________________________________________\n",
      "dense_2 (Dense)              (None, 1)                 21        \n",
      "_________________________________________________________________\n",
      "activation_7 (Activation)    (None, 1)                 0         \n",
      "=================================================================\n",
      "Total params: 21,481\n",
      "Trainable params: 21,481\n",
      "Non-trainable params: 0\n",
      "_________________________________________________________________\n",
      "None\n"
     ]
    }
   ],
   "source": [
    "# Resumen de nuestro modelo\n",
    "print(conv_model.summary())"
   ]
  },
  {
   "cell_type": "markdown",
   "metadata": {
    "slideshow": {
     "slide_type": "slide"
    }
   },
   "source": [
    "## Para usar un modelo ya definido .."
   ]
  },
  {
   "cell_type": "code",
   "execution_count": null,
   "metadata": {
    "slideshow": {
     "slide_type": "fragment"
    }
   },
   "outputs": [],
   "source": [
    "from keras.applications.vgg16 import VGG16\n",
    "\n",
    "model = VGG16(weights='imagenet', include_top=True)\n",
    "\n",
    "# 14,197,122 images"
   ]
  },
  {
   "cell_type": "markdown",
   "metadata": {
    "slideshow": {
     "slide_type": "slide"
    }
   },
   "source": [
    "<img src=\"./images/4-WKFLOW.png\" width=\"60%\" align=\"center\">  "
   ]
  },
  {
   "cell_type": "code",
   "execution_count": 10,
   "metadata": {
    "slideshow": {
     "slide_type": "slide"
    }
   },
   "outputs": [],
   "source": [
    "from keras import models, optimizers\n",
    "\n",
    "\n",
    "sgd = optimizers.SGD(lr=0.01, decay=1e-6, momentum=0.9)\n",
    "conv_model.compile(loss='binary_crossentropy', optimizer=sgd, metrics=['accuracy'])"
   ]
  },
  {
   "cell_type": "markdown",
   "metadata": {
    "slideshow": {
     "slide_type": "slide"
    }
   },
   "source": [
    "## ¿Os parece poco?\n",
    "Con keras puedes entrenar el modelo..."
   ]
  },
  {
   "cell_type": "code",
   "execution_count": 12,
   "metadata": {
    "slideshow": {
     "slide_type": "fragment"
    }
   },
   "outputs": [
    {
     "name": "stdout",
     "output_type": "stream",
     "text": [
      "Epoch 1/5\n",
      "50/50 [==============================] - 65s 1s/step - loss: 8.0808 - acc: 0.4931 - val_loss: 7.9734 - val_acc: 0.4999\n",
      "Epoch 2/5\n",
      "50/50 [==============================] - 79s 2s/step - loss: 8.3698 - acc: 0.4750 - val_loss: 7.9779 - val_acc: 0.4996\n",
      "Epoch 3/5\n",
      "50/50 [==============================] - 79s 2s/step - loss: 8.1505 - acc: 0.4888 - val_loss: 7.9869 - val_acc: 0.4990\n",
      "Epoch 4/5\n",
      "50/50 [==============================] - 72s 1s/step - loss: 8.1107 - acc: 0.4913 - val_loss: 7.9801 - val_acc: 0.4994\n",
      "Epoch 5/5\n",
      "50/50 [==============================] - 62s 1s/step - loss: 7.8516 - acc: 0.5075 - val_loss: 7.9555 - val_acc: 0.5010\n"
     ]
    }
   ],
   "source": [
    "# Momento de entrenar el modelo\n",
    "history = conv_model.fit_generator(generator=train_generator,\n",
    "                                          epochs=5, \n",
    "                                          steps_per_epoch=50, \n",
    "                                          verbose=1,\n",
    "                                          callbacks=None,\n",
    "                                          validation_data=valid_generator,\n",
    "                                          validation_steps=valid_batches)"
   ]
  },
  {
   "cell_type": "code",
   "execution_count": 14,
   "metadata": {
    "slideshow": {
     "slide_type": "skip"
    }
   },
   "outputs": [
    {
     "data": {
      "image/png": "[encoded data removed]",
      "text/plain": [
       "<Figure size 432x288 with 2 Axes>"
      ]
     },
     "metadata": {
      "needs_background": "light"
     },
     "output_type": "display_data"
    }
   ],
   "source": [
    "from matplotlib import pyplot as plt\n",
    "\n",
    "plt.figure()\n",
    "plt.subplot(211)\n",
    "plt.plot(history.history['acc'])\n",
    "plt.subplot(212)\n",
    "plt.plot(history.history['loss'])\n",
    "\n",
    "plt.show()"
   ]
  },
  {
   "cell_type": "code",
   "execution_count": 17,
   "metadata": {
    "slideshow": {
     "slide_type": "slide"
    }
   },
   "outputs": [],
   "source": [
    "# Predecimos en el conjunto de test\n",
    "test_hist = conv_model.evaluate_generator(generator=test_generator,\n",
    "                                          steps=round(test_generator.samples/100),)"
   ]
  },
  {
   "cell_type": "code",
   "execution_count": 18,
   "metadata": {
    "slideshow": {
     "slide_type": "fragment"
    }
   },
   "outputs": [
    {
     "name": "stdout",
     "output_type": "stream",
     "text": [
      "7.971192312240601 0.5\n"
     ]
    }
   ],
   "source": [
    "test_loss = test_hist[0]\n",
    "test_acc = test_hist[1]\n",
    "\n",
    "print(test_loss, test_acc)"
   ]
  },
  {
   "cell_type": "markdown",
   "metadata": {
    "slideshow": {
     "slide_type": "slide"
    }
   },
   "source": [
    "<img src=\"./images/5-WKFLOW.png\" width=\"60%\" align=\"center\">  "
   ]
  },
  {
   "cell_type": "markdown",
   "metadata": {
    "slideshow": {
     "slide_type": "slide"
    }
   },
   "source": [
    "## Entrenar un modelo lleva muuuucho tiempo\n",
    "\n",
    "Es importante GUARDAR LOS MODELOS (pesos, compilador, ...)\n",
    "\n",
    "Los modelos los puedes volver a cargar y...\n",
    "* ... y seguir entrenando.\n",
    "* ... y testear con nuevos datos.\n",
    "* ... y no tener que volver a entrenar.\n",
    "* ... y obtener métricas, info, etc..\n"
   ]
  },
  {
   "cell_type": "markdown",
   "metadata": {
    "slideshow": {
     "slide_type": "slide"
    }
   },
   "source": [
    "## ¿Cómo nos puede ayudar keras?\n",
    "# Callbacks!"
   ]
  },
  {
   "cell_type": "code",
   "execution_count": null,
   "metadata": {
    "slideshow": {
     "slide_type": "fragment"
    }
   },
   "outputs": [],
   "source": [
    "from keras import callbacks\n",
    "\n",
    "# Gardar los modelos\n",
    "checkpointer = callbacks.ModelCheckpoint(filepath='/tmp/weights.hdf5',\n",
    "                                         verbose=1,\n",
    "                                         save_best_only=True)\n",
    "\n",
    "# Early Stopping\n",
    "earlystopping = callbacks.EarlyStopping(monitor='val_loss',\n",
    "                                        patience=3,\n",
    "                                        restore_best_weights=False)\n",
    "\n",
    "# Tensor Board\n",
    "tboard = callbacks.TensorBoard(log_dir='./logs',\n",
    "                               histogram_freq=0,\n",
    "                               batch_size=batch_size,\n",
    "                               write_graph=True,\n",
    "                               update_freq='epoch')\n"
   ]
  },
  {
   "cell_type": "code",
   "execution_count": null,
   "metadata": {
    "slideshow": {
     "slide_type": "slide"
    }
   },
   "outputs": [],
   "source": [
    "loss, accuracy = conv_model.fit_generator(generator=train_generator,\n",
    "                                          epochs=1, \n",
    "                                          steps_per_epoch=train_batches, \n",
    "                                          verbose=1,\n",
    "                                          callbacks=[checkpointer, earlystopping, tboard],\n",
    "                                          validation_data=valid_generator,\n",
    "                                          validation_steps=valid_batches)"
   ]
  },
  {
   "cell_type": "markdown",
   "metadata": {
    "slideshow": {
     "slide_type": "slide"
    }
   },
   "source": [
    "# GRACIAS\n",
    "<img src=\"images/end.jpg\" width=\"95%\" >\n"
   ]
  },
  {
   "cell_type": "code",
   "execution_count": null,
   "metadata": {},
   "outputs": [],
   "source": []
  },
  {
   "cell_type": "code",
   "execution_count": null,
   "metadata": {
    "slideshow": {
     "slide_type": "slide"
    }
   },
   "outputs": [],
   "source": [
    "from keras.layers import Input, Conv2D, MaxPooling2D, Flatten, Dense, Dropout, Activation\n",
    "from keras.models import Sequential\n",
    "\n",
    "conv_model = Sequential()\n",
    "\n",
    "# The first set of CONV => RELU =\n",
    "conv_model.add(Conv2D(20, (3, 3), padding=\"same\", input_shape=(image_size[0], image_size[1], 3)))\n",
    "conv_model.add(Activation(\"relu\"))\n",
    "\n",
    "# The second set of CONV => RELU => POOL layers\n",
    "conv_model.add(Conv2D(20, (3, 3), padding=\"same\"))\n",
    "conv_model.add(Activation(\"relu\"))\n",
    "conv_model.add(MaxPooling2D(pool_size=(2, 2), strides=(2, 2)))\n",
    "\n",
    "# The second set of CONV => RELU => POOL layers\n",
    "conv_model.add(Conv2D(20, (3, 3), padding=\"same\"))\n",
    "conv_model.add(Activation(\"relu\"))\n",
    "\n",
    "# The second set of CONV => RELU => POOL layers\n",
    "conv_model.add(Conv2D(20, (3, 3), padding=\"same\"))\n",
    "conv_model.add(Activation(\"relu\"))\n",
    "\n",
    "# The second set of CONV => RELU => POOL layers\n",
    "conv_model.add(Conv2D(20, (3, 3), padding=\"same\"))\n",
    "conv_model.add(Activation(\"relu\"))\n",
    "conv_model.add(MaxPooling2D(pool_size=(2, 2), strides=(2, 2)))\n",
    "\n",
    "# The second set of CONV => RELU => POOL layers\n",
    "conv_model.add(Conv2D(20, (3, 3), padding=\"same\"))\n",
    "conv_model.add(Activation(\"relu\"))\n",
    "\n",
    "# The second set of 54 => RELU => POOL layers\n",
    "conv_model.add(Conv2D(15, (3, 3), padding=\"same\"))\n",
    "conv_model.add(Activation(\"relu\"))\n",
    "\n",
    "# The second set of CONV => RELU => POOL layers\n",
    "conv_model.add(Conv2D(15, (3, 3), padding=\"same\"))\n",
    "conv_model.add(Activation(\"relu\"))\n",
    "conv_model.add(MaxPooling2D(pool_size=(2, 2), strides=(2, 2)))\n",
    "\n",
    "# The set of FC => RELU layers\n",
    "conv_model.add(Flatten())\n",
    "conv_model.add(Dense(50))\n",
    "conv_model.add(Activation(\"relu\"))\n",
    "\n",
    "# The set of FC => RELU layers\n",
    "conv_model.add(Dense(20))\n",
    "conv_model.add(Activation(\"relu\"))\n",
    "\n",
    "# The softmax classifier\n",
    "conv_model.add(Dense(1))\n",
    "conv_model.add(Activation(\"softmax\"))"
   ]
  }
 ],
 "metadata": {
  "celltoolbar": "Slideshow",
  "kernelspec": {
   "display_name": "Python 3",
   "language": "python",
   "name": "python3"
  },
  "language_info": {
   "codemirror_mode": {
    "name": "ipython",
    "version": 3
   },
   "file_extension": ".py",
   "mimetype": "text/x-python",
   "name": "python",
   "nbconvert_exporter": "python",
   "pygments_lexer": "ipython3",
   "version": "3.5.2"
  },
  "livereveal": {
   "theme": "serif"
  }
 },
 "nbformat": 4,
 "nbformat_minor": 2
}
